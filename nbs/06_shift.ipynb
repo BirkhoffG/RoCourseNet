{
 "cells": [
  {
   "attachments": {},
   "cell_type": "markdown",
   "metadata": {},
   "source": [
    "## Download Data"
   ]
  },
  {
   "cell_type": "code",
   "execution_count": null,
   "metadata": {},
   "outputs": [
    {
     "name": "stdout",
     "output_type": "stream",
     "text": [
      "--2023-01-26 18:54:51--  https://storage.yandexcloud.net/yandex-research/shifts/weather/canonical-partitioned-dataset.tar\n",
      "Resolving storage.yandexcloud.net (storage.yandexcloud.net)... 213.180.193.243, 2a02:6b8::1d9\n",
      "Connecting to storage.yandexcloud.net (storage.yandexcloud.net)|213.180.193.243|:443... connected.\n",
      "HTTP request sent, awaiting response... 200 OK\n",
      "Length: 7472220160 (7.0G) [application/x-tar]\n",
      "Saving to: ‘canonical-partitioned-dataset.tar’\n",
      "\n",
      "canonical-partition 100%[===================>]   6.96G  20.3MB/s    in 5m 59s  \n",
      "\n",
      "2023-01-26 19:00:51 (19.9 MB/s) - ‘canonical-partitioned-dataset.tar’ saved [7472220160/7472220160]\n",
      "\n"
     ]
    }
   ],
   "source": [
    "! wget https://storage.yandexcloud.net/yandex-research/shifts/weather/canonical-partitioned-dataset.tar"
   ]
  },
  {
   "cell_type": "code",
   "execution_count": null,
   "metadata": {},
   "outputs": [],
   "source": [
    "!tar -xvf canonical-partitioned-dataset.tar"
   ]
  },
  {
   "cell_type": "code",
   "execution_count": null,
   "metadata": {},
   "outputs": [
    {
     "name": "stdout",
     "output_type": "stream",
     "text": [
      "Collecting catboost\n",
      "  Downloading catboost-1.1.1-cp37-none-manylinux1_x86_64.whl (76.6 MB)\n",
      "\u001b[2K     \u001b[90m━━━━━━━━━━━━━━━━━━━━━━━━━━━━━━━━━━━━━━━━\u001b[0m \u001b[32m76.6/76.6 MB\u001b[0m \u001b[31m20.3 MB/s\u001b[0m eta \u001b[36m0:00:00\u001b[0m00:01\u001b[0m00:01\u001b[0m\n",
      "\u001b[?25hRequirement already satisfied: matplotlib in /opt/conda/envs/nbdev2/lib/python3.7/site-packages (from catboost) (3.5.3)\n",
      "Requirement already satisfied: pandas>=0.24.0 in /opt/conda/envs/nbdev2/lib/python3.7/site-packages (from catboost) (1.3.5)\n",
      "Requirement already satisfied: numpy>=1.16.0 in /opt/conda/envs/nbdev2/lib/python3.7/site-packages (from catboost) (1.21.6)\n",
      "Collecting graphviz\n",
      "  Downloading graphviz-0.20.1-py3-none-any.whl (47 kB)\n",
      "\u001b[2K     \u001b[90m━━━━━━━━━━━━━━━━━━━━━━━━━━━━━━━━━━━━━━━━\u001b[0m \u001b[32m47.0/47.0 kB\u001b[0m \u001b[31m14.8 MB/s\u001b[0m eta \u001b[36m0:00:00\u001b[0m\n",
      "\u001b[?25hRequirement already satisfied: scipy in /opt/conda/envs/nbdev2/lib/python3.7/site-packages (from catboost) (1.7.3)\n",
      "Requirement already satisfied: six in /opt/conda/envs/nbdev2/lib/python3.7/site-packages (from catboost) (1.16.0)\n",
      "Collecting plotly\n",
      "  Downloading plotly-5.13.0-py2.py3-none-any.whl (15.2 MB)\n",
      "\u001b[2K     \u001b[90m━━━━━━━━━━━━━━━━━━━━━━━━━━━━━━━━━━━━━━━\u001b[0m \u001b[32m15.2/15.2 MB\u001b[0m \u001b[31m121.5 MB/s\u001b[0m eta \u001b[36m0:00:00\u001b[0m00:01\u001b[0m00:01\u001b[0m\n",
      "\u001b[?25hRequirement already satisfied: python-dateutil>=2.7.3 in /opt/conda/envs/nbdev2/lib/python3.7/site-packages (from pandas>=0.24.0->catboost) (2.8.2)\n",
      "Requirement already satisfied: pytz>=2017.3 in /opt/conda/envs/nbdev2/lib/python3.7/site-packages (from pandas>=0.24.0->catboost) (2022.6)\n",
      "Requirement already satisfied: pillow>=6.2.0 in /opt/conda/envs/nbdev2/lib/python3.7/site-packages (from matplotlib->catboost) (9.3.0)\n",
      "Requirement already satisfied: pyparsing>=2.2.1 in /opt/conda/envs/nbdev2/lib/python3.7/site-packages (from matplotlib->catboost) (3.0.9)\n",
      "Requirement already satisfied: fonttools>=4.22.0 in /opt/conda/envs/nbdev2/lib/python3.7/site-packages (from matplotlib->catboost) (4.38.0)\n",
      "Requirement already satisfied: cycler>=0.10 in /opt/conda/envs/nbdev2/lib/python3.7/site-packages (from matplotlib->catboost) (0.11.0)\n",
      "Requirement already satisfied: packaging>=20.0 in /opt/conda/envs/nbdev2/lib/python3.7/site-packages (from matplotlib->catboost) (22.0)\n",
      "Requirement already satisfied: kiwisolver>=1.0.1 in /opt/conda/envs/nbdev2/lib/python3.7/site-packages (from matplotlib->catboost) (1.4.4)\n",
      "Collecting tenacity>=6.2.0\n",
      "  Downloading tenacity-8.1.0-py3-none-any.whl (23 kB)\n",
      "Requirement already satisfied: typing-extensions in /opt/conda/envs/nbdev2/lib/python3.7/site-packages (from kiwisolver>=1.0.1->matplotlib->catboost) (4.4.0)\n",
      "Installing collected packages: tenacity, graphviz, plotly, catboost\n",
      "Successfully installed catboost-1.1.1 graphviz-0.20.1 plotly-5.13.0 tenacity-8.1.0\n"
     ]
    }
   ],
   "source": [
    "!pip install catboost"
   ]
  },
  {
   "attachments": {},
   "cell_type": "markdown",
   "metadata": {},
   "source": [
    "## Load Data into pd"
   ]
  },
  {
   "cell_type": "code",
   "execution_count": null,
   "metadata": {},
   "outputs": [],
   "source": [
    "import pandas as pd"
   ]
  },
  {
   "cell_type": "code",
   "execution_count": null,
   "metadata": {},
   "outputs": [],
   "source": [
    "train = pd.read_csv('../canonical-paritioned-dataset/shifts_canonical_train.csv')\n",
    "dev = pd.read_csv('../canonical-paritioned-dataset/shifts_canonical_dev_out.csv')\n",
    "test = pd.read_csv('../canonical-paritioned-dataset/shifts_canonical_eval_out.csv')"
   ]
  },
  {
   "cell_type": "code",
   "execution_count": null,
   "metadata": {},
   "outputs": [],
   "source": [
    "dev = pd.read_csv('../canonical-paritioned-dataset/shifts_canonical_dev_out.csv')\n",
    "test = pd.read_csv('../canonical-paritioned-dataset/shifts_canonical_eval_out.csv')"
   ]
  },
  {
   "cell_type": "code",
   "execution_count": null,
   "metadata": {},
   "outputs": [],
   "source": [
    "!rm -r ../canonical-paritioned-dataset"
   ]
  },
  {
   "cell_type": "code",
   "execution_count": null,
   "metadata": {},
   "outputs": [
    {
     "data": {
      "text/plain": [
       "0.0     1185355\n",
       "10.0     976063\n",
       "20.0     731382\n",
       "21.0     113505\n",
       "11.0      94736\n",
       "23.0      18274\n",
       "13.0       7634\n",
       "22.0       1795\n",
       "12.0        848\n",
       "Name: fact_cwsm_class, dtype: int64"
      ]
     },
     "execution_count": null,
     "metadata": {},
     "output_type": "execute_result"
    }
   ],
   "source": [
    "train['fact_cwsm_class'].value_counts()"
   ]
  },
  {
   "cell_type": "code",
   "execution_count": null,
   "metadata": {},
   "outputs": [],
   "source": [
    "def filter_dataset(df: pd.DataFrame):\n",
    "    return df[(df['fact_cwsm_class'] == 0.)| (df['fact_cwsm_class'] == 10.)]"
   ]
  },
  {
   "cell_type": "code",
   "execution_count": null,
   "metadata": {},
   "outputs": [],
   "source": [
    "train = filter_dataset(train)\n",
    "dev = filter_dataset(dev)\n",
    "test = filter_dataset(test)"
   ]
  },
  {
   "cell_type": "code",
   "execution_count": null,
   "metadata": {},
   "outputs": [],
   "source": [
    "X_train = train.iloc[:,6:]\n",
    "y_train = train['fact_cwsm_class']\n",
    "X_dev = dev.iloc[:,6:]\n",
    "y_dev = dev['fact_cwsm_class']\n",
    "X_test = test.iloc[:,6:]\n",
    "y_test = test['fact_cwsm_class']"
   ]
  },
  {
   "cell_type": "code",
   "execution_count": null,
   "metadata": {},
   "outputs": [],
   "source": [
    "! mkdir assets/data/weather"
   ]
  },
  {
   "cell_type": "code",
   "execution_count": null,
   "metadata": {},
   "outputs": [],
   "source": [
    "pd.concat([X_train, y_train], axis=1).to_csv('assets/data/weather/train.csv', index=False)\n",
    "pd.concat([X_dev, y_dev], axis=1).to_csv('assets/data/weather/dev.csv', index=False)\n",
    "pd.concat([X_test, y_test], axis=1).to_csv('assets/data/weather/test.csv', index=False)"
   ]
  },
  {
   "cell_type": "code",
   "execution_count": null,
   "metadata": {},
   "outputs": [
    {
     "name": "stdout",
     "output_type": "stream",
     "text": [
      "total 4.0G\n",
      "drwxr-xr-x  2 birk birk 4.0K Jan 26 19:56 .\n",
      "drwxr-xr-x 11 birk birk 4.0K Jan 26 19:49 ..\n",
      "-rw-r--r--  1 birk birk  54M Jan 26 19:56 dev.csv\n",
      "-rw-r--r--  1 birk birk 543M Jan 26 19:57 test.csv\n",
      "-rw-r--r--  1 birk birk 3.4G Jan 26 19:56 train.csv\n"
     ]
    }
   ],
   "source": [
    "!ls -alh assets/data/weather"
   ]
  },
  {
   "attachments": {},
   "cell_type": "markdown",
   "metadata": {},
   "source": [
    "## Baseline Prediction"
   ]
  },
  {
   "cell_type": "code",
   "execution_count": null,
   "metadata": {},
   "outputs": [],
   "source": [
    "import catboost"
   ]
  },
  {
   "cell_type": "code",
   "execution_count": null,
   "metadata": {},
   "outputs": [
    {
     "name": "stdout",
     "output_type": "stream",
     "text": [
      "0:\tlearn: 0.6862782\ttotal: 76.2ms\tremaining: 1m 16s\n",
      "100:\tlearn: 0.5235198\ttotal: 7.31s\tremaining: 1m 5s\n",
      "200:\tlearn: 0.5069747\ttotal: 14.3s\tremaining: 56.8s\n",
      "300:\tlearn: 0.5002165\ttotal: 21.1s\tremaining: 49.1s\n",
      "400:\tlearn: 0.4964211\ttotal: 27.7s\tremaining: 41.4s\n",
      "500:\tlearn: 0.4937951\ttotal: 34.4s\tremaining: 34.2s\n",
      "600:\tlearn: 0.4917484\ttotal: 41s\tremaining: 27.2s\n",
      "700:\tlearn: 0.4900046\ttotal: 47.7s\tremaining: 20.3s\n",
      "800:\tlearn: 0.4886092\ttotal: 54.3s\tremaining: 13.5s\n",
      "900:\tlearn: 0.4872878\ttotal: 1m\tremaining: 6.7s\n",
      "999:\tlearn: 0.4861102\ttotal: 1m 7s\tremaining: 0us\n"
     ]
    },
    {
     "data": {
      "text/plain": [
       "<catboost.core.CatBoostClassifier>"
      ]
     },
     "execution_count": null,
     "metadata": {},
     "output_type": "execute_result"
    }
   ],
   "source": [
    "model = catboost.CatBoostClassifier(iterations=1000, learning_rate=0.03, depth=2, loss_function='Logloss')\n",
    "model.fit(X_train, y_train, verbose=100)"
   ]
  },
  {
   "cell_type": "code",
   "execution_count": null,
   "metadata": {},
   "outputs": [
    {
     "data": {
      "text/plain": [
       "0.7695957006002541"
      ]
     },
     "execution_count": null,
     "metadata": {},
     "output_type": "execute_result"
    }
   ],
   "source": [
    "model.score(X_train, y_train)"
   ]
  },
  {
   "cell_type": "code",
   "execution_count": null,
   "metadata": {},
   "outputs": [
    {
     "data": {
      "text/plain": [
       "0.688774465346245"
      ]
     },
     "execution_count": null,
     "metadata": {},
     "output_type": "execute_result"
    }
   ],
   "source": [
    "model.score(X_dev, y_dev)"
   ]
  },
  {
   "cell_type": "code",
   "execution_count": null,
   "metadata": {},
   "outputs": [
    {
     "data": {
      "text/plain": [
       "0.674320240014876"
      ]
     },
     "execution_count": null,
     "metadata": {},
     "output_type": "execute_result"
    }
   ],
   "source": [
    "model.score(X_test, y_test)"
   ]
  }
 ],
 "metadata": {
  "kernelspec": {
   "display_name": "nbdev2",
   "language": "python",
   "name": "python3"
  }
 },
 "nbformat": 4,
 "nbformat_minor": 2
}
